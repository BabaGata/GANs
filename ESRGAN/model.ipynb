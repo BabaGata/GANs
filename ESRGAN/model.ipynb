{
 "cells": [
  {
   "cell_type": "code",
   "execution_count": 1,
   "metadata": {},
   "outputs": [],
   "source": [
    "import torch\n",
    "from torch import nn"
   ]
  },
  {
   "cell_type": "code",
   "execution_count": 2,
   "metadata": {},
   "outputs": [],
   "source": [
    "class ConvBlock(nn.Module):\n",
    "    def __init__(self, in_channels, out_channels, use_act, **kwargs):\n",
    "        super().__init__()\n",
    "        self.cnn = nn.Conv2d(in_channels, out_channels, **kwargs, bias=True)\n",
    "        self.act = nn.LeakyReLU(0.2, inplace=True) if use_act else nn.Identity()\n",
    "        \n",
    "    def forward(self, x):\n",
    "        return self.act(self.cnn(x))"
   ]
  },
  {
   "cell_type": "code",
   "execution_count": 3,
   "metadata": {},
   "outputs": [],
   "source": [
    "class UpsampleBlock(nn.Module):\n",
    "    def __init__(self, in_c, scale_factor=2):\n",
    "        super().__init__()\n",
    "        self.upsample = nn.Upsample(scale_factor=scale_factor, mode=\"nearest\")\n",
    "        self.conv = nn.Conv2d(in_c, in_c, 3, 1, 1, bias=True)\n",
    "        self.act = nn.LeakyReLU(0.2, inplace=True)\n",
    "        \n",
    "    def forward(self, x):\n",
    "        return self.act(self.conv(self.upsample(x)))"
   ]
  },
  {
   "cell_type": "code",
   "execution_count": 4,
   "metadata": {},
   "outputs": [],
   "source": [
    "class DenseResidualBlock(nn.Module):\n",
    "    def __init__(self, in_channels, channels=32, residual_beta=0.2):\n",
    "        super().__init__()\n",
    "        self.residual_beta = residual_beta\n",
    "        self.blocks = nn.ModuleList()\n",
    "        \n",
    "        for i in range(5):\n",
    "            self.blocks.append(\n",
    "                ConvBlock(\n",
    "                    in_channels + channels * i,\n",
    "                    channels if i <=3 else in_channels,\n",
    "                    kernel_size=3,\n",
    "                    stride=1,\n",
    "                    padding=1,\n",
    "                    use_act = True if i <= 3 else False\n",
    "                )\n",
    "            )\n",
    "            \n",
    "    def forward(self, x):\n",
    "        new_inputs = x\n",
    "        for block in self.blocks:\n",
    "            out = block(new_inputs)\n",
    "            new_inputs = torch.cat([new_inputs, out], dim=1)\n",
    "        return self.residual_beta*out+x"
   ]
  },
  {
   "cell_type": "code",
   "execution_count": 5,
   "metadata": {},
   "outputs": [],
   "source": [
    "class RRDB(nn.Module):\n",
    "    def __init__(self, in_channels, residual_beta=0.2):\n",
    "        super().__init__()\n",
    "        self.residual_beta = residual_beta\n",
    "        self.rrdb = nn.Sequential(*[DenseResidualBlock(in_channels) for _  in range(3)])\n",
    "        \n",
    "    def forward(self, x):\n",
    "        return self.rrdb(x) * self.residual_beta + x"
   ]
  },
  {
   "cell_type": "code",
   "execution_count": 6,
   "metadata": {},
   "outputs": [],
   "source": [
    "class Generator(nn.Module):\n",
    "    def __init__(self, in_channels=3, num_channels=64, num_blocks=23):\n",
    "        super().__init__()\n",
    "        self.initial= nn.Conv2d(\n",
    "            in_channels, num_channels, kernel_size=3, stride=1, padding=1, bias=True\n",
    "        )\n",
    "        self.residuals = nn.Sequential(*[RRDB(num_channels) for _ in range(num_blocks)])\n",
    "        self.conv = nn.Conv2d(num_channels, num_channels, kernel_size=3, stride=1, padding=1)\n",
    "        self.upsamples = nn.Sequential(\n",
    "            UpsampleBlock(num_channels), UpsampleBlock(num_channels)\n",
    "        )\n",
    "        self.final = nn.Sequential(\n",
    "            nn.Conv2d(num_channels, num_channels, 3, 1, 1, bias=True),\n",
    "            nn.LeakyReLU(0.2, inplace=True),\n",
    "            nn.Conv2d(num_channels, in_channels, 3, 1, 1, bias=True)\n",
    "        )\n",
    "        \n",
    "    def forward(self, x):\n",
    "        initial = self.initial(x)\n",
    "        x = self.conv(self.residuals(initial)) + initial\n",
    "        x = self.upsamples(x)\n",
    "        return self.final(x)"
   ]
  },
  {
   "cell_type": "code",
   "execution_count": 7,
   "metadata": {},
   "outputs": [],
   "source": [
    "class Discriminator(nn.Module):\n",
    "    def __init__(self, in_channels= 3, features=[64,64,128,128,256,256,512,512]):\n",
    "        super().__init__()\n",
    "        blocks = []\n",
    "        for idx, feature in enumerate(features):\n",
    "            blocks.append(\n",
    "                ConvBlock(in_channels, feature, kernel_size=3, stride=1+idx%2,padding=1, use_act=True)\n",
    "            )\n",
    "            in_channels = feature\n",
    "            \n",
    "        self.blocks = nn.Sequential(*blocks)\n",
    "        self.classifier = nn.Sequential(\n",
    "            nn.AdaptiveAvgPool2d((6, 6)),\n",
    "            nn.Flatten(),\n",
    "            nn.Linear(512*6*6, 1024),\n",
    "            nn.LeakyReLU(0.2, inplace=True),\n",
    "            nn.Linear(1024, 1)\n",
    "        )\n",
    "        \n",
    "    def forward(self, x):\n",
    "        x=self.blocks(x)\n",
    "        return self.classifier(x)"
   ]
  },
  {
   "cell_type": "code",
   "execution_count": 8,
   "metadata": {},
   "outputs": [],
   "source": [
    "def initialize_weights(model, scale=0.1):\n",
    "    for m in model.modules():\n",
    "        if instance(m, nn.Conv2d):\n",
    "            nn.init.kaiming_normal_(m.weight.data)\n",
    "            m.weight.data *= scale\n",
    "            \n",
    "        elif instance(m, nn.Linear):\n",
    "            nn.init.kaiming_normal_(m.weight.data)\n",
    "            m.weight.data *= scale"
   ]
  },
  {
   "cell_type": "code",
   "execution_count": 9,
   "metadata": {},
   "outputs": [
    {
     "name": "stdout",
     "output_type": "stream",
     "text": [
      "torch.Size([5, 3, 96, 96])\n",
      "torch.Size([5, 1])\n"
     ]
    }
   ],
   "source": [
    "def test():\n",
    "    gen = Generator()\n",
    "    disc = Discriminator()\n",
    "    low_res = 24\n",
    "    x = torch.randn((5, 3, low_res, low_res))\n",
    "    gen_out = gen(x)\n",
    "    disc_out = disc(gen_out)\n",
    "    \n",
    "    print(gen_out.shape)\n",
    "    print(disc_out.shape)\n",
    "    \n",
    "if __name__ == \"__main__\":\n",
    "    test()"
   ]
  }
 ],
 "metadata": {
  "kernelspec": {
   "display_name": "Python 3",
   "language": "python",
   "name": "python3"
  },
  "language_info": {
   "codemirror_mode": {
    "name": "ipython",
    "version": 3
   },
   "file_extension": ".py",
   "mimetype": "text/x-python",
   "name": "python",
   "nbconvert_exporter": "python",
   "pygments_lexer": "ipython3",
   "version": "3.8.5"
  }
 },
 "nbformat": 4,
 "nbformat_minor": 4
}
