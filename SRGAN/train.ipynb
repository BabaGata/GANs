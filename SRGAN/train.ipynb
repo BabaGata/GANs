{
 "cells": [
  {
   "cell_type": "code",
   "execution_count": 1,
   "metadata": {},
   "outputs": [
    {
     "name": "stdout",
     "output_type": "stream",
     "text": [
      "importing Jupyter notebook from config.ipynb\n",
      "importing Jupyter notebook from utils.ipynb\n",
      "importing Jupyter notebook from SRGAN.ipynb\n",
      "importing Jupyter notebook from dataset.ipynb\n"
     ]
    },
    {
     "name": "stderr",
     "output_type": "stream",
     "text": [
      "C:\\Users\\Agata\\Anaconda3\\lib\\site-packages\\torch\\cuda\\__init__.py:82: UserWarning: CUDA initialization: CUDA driver initialization failed, you might not have a CUDA gpu. (Triggered internally at  C:\\cb\\pytorch_1000000000000\\work\\c10\\cuda\\CUDAFunctions.cpp:112.)\n",
      "  return torch._C._cuda_getDeviceCount() > 0\n"
     ]
    }
   ],
   "source": [
    "import torch\n",
    "import import_ipynb\n",
    "import config\n",
    "from torch import nn\n",
    "from torch import optim\n",
    "from utils import load_checkpoint, save_checkpoint, plot_examples\n",
    "from SRGAN import VGGLoss, Generator, Discriminator\n",
    "from tqdm import tqdm\n",
    "from dataset import MyImageFolder"
   ]
  },
  {
   "cell_type": "code",
   "execution_count": 3,
   "metadata": {},
   "outputs": [],
   "source": [
    "torch.backends.cudnn = True"
   ]
  },
  {
   "cell_type": "code",
   "execution_count": 6,
   "metadata": {},
   "outputs": [],
   "source": [
    "def train_fn(loader, disc, gen, opt_gen, opt_disc, mse, bce, vgg_loss):\n",
    "    loop = tqdm(loader, leave=True)\n",
    "    \n",
    "    for idx, (low_res, high_res) in enumerate(loop):\n",
    "        high_res = high_res.to(config.DEVICE)\n",
    "        low_res = low_res.to(config.DEVICE)\n",
    "        \n",
    "        ### Prvo treniram ovako kako je označeno a nakon toga maknem komentare i l2_loss pa ponovno treniram\n",
    "        \n",
    "        ## Training Discriminator:max log(D(x)) + log(1-D(G(z)))\n",
    "        fake = gen(low_res)\n",
    "        # disc_real = disc(high_res)\n",
    "        # disc_fake = disc(fake.detach())\n",
    "        # disc_loss_real = bce(\n",
    "        #     disc_real, torch.ones_like(disc_real) - 0.1 * torch.rand_like(disc_real)\n",
    "        # )\n",
    "        # disc_loss_fake = bce(disc_fake, torch.zeros_like(disc_fake))\n",
    "        # loss_disc = disc_loss_fake + disc_loss_real\n",
    "        \n",
    "        # opt_disc.zero_grad()\n",
    "        # loss_disc.backward()\n",
    "        # opt_disc = step()\n",
    "        \n",
    "        # Train Generator: min log(1-D(G(z)))  <-> max log(D(G(z)))\n",
    "        # disc_fake = disc(fake)\n",
    "        l2_loss = mse(fake, high_res)\n",
    "        # adversarial_loss = 1e-3 * bce(disc_fake, torch.ones_like(disc_fake))\n",
    "        # loss_for_vgg = 0.006*vgg_loss(fake, high_res)\n",
    "        gen_loss = l2_loss # loss_for_vgg + adversarial_loss\n",
    "        \n",
    "        # opt_gen.zero_grad()\n",
    "        # gen_loss.backward()\n",
    "        # opt_gen.step()\n",
    "        \n",
    "        if idx % 1 == 0:\n",
    "            plot_examples(\"test_images/\", gen)"
   ]
  },
  {
   "cell_type": "code",
   "execution_count": 7,
   "metadata": {},
   "outputs": [
    {
     "ename": "FileNotFoundError",
     "evalue": "[WinError 3] The system cannot find the path specified: 'new_data/'",
     "output_type": "error",
     "traceback": [
      "\u001b[1;31m---------------------------------------------------------------------------\u001b[0m",
      "\u001b[1;31mFileNotFoundError\u001b[0m                         Traceback (most recent call last)",
      "\u001b[1;32m<ipython-input-7-87a5e3a28875>\u001b[0m in \u001b[0;36m<module>\u001b[1;34m\u001b[0m\n\u001b[0;32m     31\u001b[0m \u001b[1;33m\u001b[0m\u001b[0m\n\u001b[0;32m     32\u001b[0m \u001b[1;32mif\u001b[0m \u001b[0m__name__\u001b[0m \u001b[1;33m==\u001b[0m \u001b[1;34m\"__main__\"\u001b[0m\u001b[1;33m:\u001b[0m\u001b[1;33m\u001b[0m\u001b[1;33m\u001b[0m\u001b[0m\n\u001b[1;32m---> 33\u001b[1;33m     \u001b[0mmain\u001b[0m\u001b[1;33m(\u001b[0m\u001b[1;33m)\u001b[0m\u001b[1;33m\u001b[0m\u001b[1;33m\u001b[0m\u001b[0m\n\u001b[0m",
      "\u001b[1;32m<ipython-input-7-87a5e3a28875>\u001b[0m in \u001b[0;36mmain\u001b[1;34m()\u001b[0m\n\u001b[0;32m      1\u001b[0m \u001b[1;32mdef\u001b[0m \u001b[0mmain\u001b[0m\u001b[1;33m(\u001b[0m\u001b[1;33m)\u001b[0m\u001b[1;33m:\u001b[0m\u001b[1;33m\u001b[0m\u001b[1;33m\u001b[0m\u001b[0m\n\u001b[1;32m----> 2\u001b[1;33m     \u001b[0mdataset\u001b[0m \u001b[1;33m=\u001b[0m \u001b[0mMyImageFolder\u001b[0m\u001b[1;33m(\u001b[0m\u001b[0mroot_dir\u001b[0m\u001b[1;33m=\u001b[0m\u001b[1;34m\"new_data/\"\u001b[0m\u001b[1;33m)\u001b[0m\u001b[1;33m\u001b[0m\u001b[1;33m\u001b[0m\u001b[0m\n\u001b[0m\u001b[0;32m      3\u001b[0m     loader = DataLoader(\n\u001b[0;32m      4\u001b[0m         \u001b[0mdataset\u001b[0m\u001b[1;33m,\u001b[0m\u001b[1;33m\u001b[0m\u001b[1;33m\u001b[0m\u001b[0m\n\u001b[0;32m      5\u001b[0m         \u001b[0mbatch_size\u001b[0m\u001b[1;33m=\u001b[0m\u001b[0mconfig\u001b[0m\u001b[1;33m.\u001b[0m\u001b[0mBATCH_SIZE\u001b[0m\u001b[1;33m,\u001b[0m\u001b[1;33m\u001b[0m\u001b[1;33m\u001b[0m\u001b[0m\n",
      "\u001b[1;32m~\\Desktop\\PyTorch\\GANs\\SRGAN\\dataset.ipynb\u001b[0m in \u001b[0;36m__init__\u001b[1;34m(self, root_dir)\u001b[0m\n",
      "\u001b[1;31mFileNotFoundError\u001b[0m: [WinError 3] The system cannot find the path specified: 'new_data/'"
     ]
    }
   ],
   "source": [
    "def main():\n",
    "    dataset = MyImageFolder(root_dir=\"new_data/\")\n",
    "    loader = DataLoader(\n",
    "        dataset,\n",
    "        batch_size=config.BATCH_SIZE,\n",
    "        shuffle = True,\n",
    "        pin_memory=True,\n",
    "        num_workers=config.NUM_WORKERS\n",
    "    )\n",
    "    gen = Generator(in_channels=3).to(config.DEVICE)\n",
    "    disc = Discriminaor(img_channels=3).to(config.DEVICE)\n",
    "    opt_gen = optim.Adam(gen.parameters(), lr=config.LEARNING_RATE, betas=(0.9, 0.999))\n",
    "    opt_disc = optim.Adam(disc.parameters(), lr=config.LEARNING_RATE, betas=(0.9, 0.999))\n",
    "    mse = nn.MSELoss()\n",
    "    bce = nn.BCEWithLogisticLoss()\n",
    "    vgg_loss = VGGLoss()\n",
    "    \n",
    "    if config.LOAD_MODEL:\n",
    "        load_checkpoint(config.CHECKPOINT_GEN, gen, opt_gen, config.LEARNING_RATE\n",
    "        )\n",
    "        load_checkpoint(\n",
    "            config.CHECKPOINT_DISC, disc, opt_disc, config.LEARNING_RATE\n",
    "        )\n",
    "        \n",
    "    for epoch in range(config.NUM_EPOCHS):\n",
    "        train_fn(loader, disc, gen, opt_gen, opt_disc, mse, bce, vgg_loss)\n",
    "        \n",
    "        if config.SAVE_MODEL:\n",
    "            save_checkpoint(gen, opt_gen, filename=config.CHECKPOINT_GEN)\n",
    "            save_checkpoint(disc, opt_disc, filename=config.CHECKPOINT_GEN)\n",
    "            \n",
    "if __name__ == \"__main__\":\n",
    "    main()"
   ]
  },
  {
   "cell_type": "code",
   "execution_count": null,
   "metadata": {},
   "outputs": [],
   "source": []
  }
 ],
 "metadata": {
  "kernelspec": {
   "display_name": "Python 3",
   "language": "python",
   "name": "python3"
  },
  "language_info": {
   "codemirror_mode": {
    "name": "ipython",
    "version": 3
   },
   "file_extension": ".py",
   "mimetype": "text/x-python",
   "name": "python",
   "nbconvert_exporter": "python",
   "pygments_lexer": "ipython3",
   "version": "3.8.5"
  }
 },
 "nbformat": 4,
 "nbformat_minor": 4
}
