{
 "cells": [
  {
   "cell_type": "code",
   "execution_count": 4,
   "metadata": {},
   "outputs": [],
   "source": [
    "import torch\n",
    "import torch.nn as nn\n",
    "from math import log2"
   ]
  },
  {
   "cell_type": "code",
   "execution_count": 5,
   "metadata": {},
   "outputs": [],
   "source": [
    "START_TRAIN_AT_IMG_SIZE = 4\n",
    "DATASET = \"celeb_HQ\"\n",
    "CHECKPOINT_GEN = \"generator.pt\"\n",
    "CHECKPOINT_CRITIC = \"critic.pth\"\n",
    "DEVICE = \"cuda\" if torch.cuda.is_available() else \"cpu\"\n",
    "SAVE_MODEL = True\n",
    "LOAD_MODEL = False\n",
    "LEARNING_RATE = 1e-3\n",
    "BATCH_SIZES = [16, 16, 16, 16, 16, 16, 16, 8, 4] # change epending on your vram\n",
    "IMAGE_SIZE = 512\n",
    "CHANNELS_IMG = 3\n",
    "Z_DIM = 256 # the paper used 512, I use 256 for less vram usage/speed up training\n",
    "IN_CHANNELS = 256\n",
    "LAMBDA_GP = 10\n",
    "NUM_STEPS = int(log2(IMAGE_SIZE / 4)) + 1\n",
    "\n",
    "# note you should change the number of epochs depending on the size of your datdset\n",
    "# in the paper they run for 800k update as they increase alpha, and 800k\n",
    "# when alpha = 1. Of course also visually inspect that it looks good for each\n",
    "PROGRESSIVE_EPOCHS = [20] * len(BATCH_SIZES)\n",
    "FIXED_NOICE = torch.randn(8, Z_DIM, 1, 1).to(DEVICE)\n",
    "NUM_WORKERS = 4"
   ]
  }
 ],
 "metadata": {
  "kernelspec": {
   "display_name": "Python 3",
   "language": "python",
   "name": "python3"
  },
  "language_info": {
   "codemirror_mode": {
    "name": "ipython",
    "version": 3
   },
   "file_extension": ".py",
   "mimetype": "text/x-python",
   "name": "python",
   "nbconvert_exporter": "python",
   "pygments_lexer": "ipython3",
   "version": "3.8.5"
  }
 },
 "nbformat": 4,
 "nbformat_minor": 4
}
